{
 "cells": [
  {
   "cell_type": "code",
   "execution_count": 2,
   "metadata": {},
   "outputs": [],
   "source": [
    "import statsmodels.api as sm\n",
    "import numpy as np\n",
    "from sklearn.linear_model import LinearRegression\n",
    "from sklearn.metrics import mean_squared_error\n",
    "import pandas as pd\n",
    "from sklearn.metrics import r2_score\n",
    "from sklearn.preprocessing import StandardScaler\n",
    "import matplotlib.pyplot as plt\n",
    "import seaborn as sns\n",
    "\n",
    "#import data\n",
    "test_data = pd.read_csv(\"test.data.csv\")\n",
    "train_data = pd.read_csv(\"train.data.csv\")\n",
    "fancy_house = pd.read_csv(\"fancyhouse.csv\")"
   ]
  },
  {
   "cell_type": "code",
   "execution_count": 3,
   "metadata": {},
   "outputs": [
    {
     "data": {
      "text/html": [
       "<div>\n",
       "<style scoped>\n",
       "    .dataframe tbody tr th:only-of-type {\n",
       "        vertical-align: middle;\n",
       "    }\n",
       "\n",
       "    .dataframe tbody tr th {\n",
       "        vertical-align: top;\n",
       "    }\n",
       "\n",
       "    .dataframe thead th {\n",
       "        text-align: right;\n",
       "    }\n",
       "</style>\n",
       "<table border=\"1\" class=\"dataframe\">\n",
       "  <thead>\n",
       "    <tr style=\"text-align: right;\">\n",
       "      <th></th>\n",
       "      <th>Unnamed: 0</th>\n",
       "      <th>id</th>\n",
       "      <th>date</th>\n",
       "      <th>price</th>\n",
       "      <th>bedrooms</th>\n",
       "      <th>bathrooms</th>\n",
       "      <th>sqft_living</th>\n",
       "      <th>sqft_lot</th>\n",
       "      <th>floors</th>\n",
       "      <th>waterfront</th>\n",
       "      <th>...</th>\n",
       "      <th>grade</th>\n",
       "      <th>sqft_above</th>\n",
       "      <th>sqft_basement</th>\n",
       "      <th>yr_built</th>\n",
       "      <th>yr_renovated</th>\n",
       "      <th>zipcode</th>\n",
       "      <th>lat</th>\n",
       "      <th>long</th>\n",
       "      <th>sqft_living15</th>\n",
       "      <th>sqft_lot15</th>\n",
       "    </tr>\n",
       "  </thead>\n",
       "  <tbody>\n",
       "    <tr>\n",
       "      <td>0</td>\n",
       "      <td>2</td>\n",
       "      <td>6414100192</td>\n",
       "      <td>20141209T000000</td>\n",
       "      <td>538000</td>\n",
       "      <td>3</td>\n",
       "      <td>2.25</td>\n",
       "      <td>2570</td>\n",
       "      <td>7242</td>\n",
       "      <td>2.0</td>\n",
       "      <td>0</td>\n",
       "      <td>...</td>\n",
       "      <td>7</td>\n",
       "      <td>2170</td>\n",
       "      <td>400</td>\n",
       "      <td>1951</td>\n",
       "      <td>1991</td>\n",
       "      <td>98125</td>\n",
       "      <td>47.7210</td>\n",
       "      <td>-122.319</td>\n",
       "      <td>1690</td>\n",
       "      <td>7639</td>\n",
       "    </tr>\n",
       "    <tr>\n",
       "      <td>1</td>\n",
       "      <td>4</td>\n",
       "      <td>2487200875</td>\n",
       "      <td>20141209T000000</td>\n",
       "      <td>604000</td>\n",
       "      <td>4</td>\n",
       "      <td>3.00</td>\n",
       "      <td>1960</td>\n",
       "      <td>5000</td>\n",
       "      <td>1.0</td>\n",
       "      <td>0</td>\n",
       "      <td>...</td>\n",
       "      <td>7</td>\n",
       "      <td>1050</td>\n",
       "      <td>910</td>\n",
       "      <td>1965</td>\n",
       "      <td>0</td>\n",
       "      <td>98136</td>\n",
       "      <td>47.5208</td>\n",
       "      <td>-122.393</td>\n",
       "      <td>1360</td>\n",
       "      <td>5000</td>\n",
       "    </tr>\n",
       "    <tr>\n",
       "      <td>2</td>\n",
       "      <td>5</td>\n",
       "      <td>1954400510</td>\n",
       "      <td>20150218T000000</td>\n",
       "      <td>510000</td>\n",
       "      <td>3</td>\n",
       "      <td>2.00</td>\n",
       "      <td>1680</td>\n",
       "      <td>8080</td>\n",
       "      <td>1.0</td>\n",
       "      <td>0</td>\n",
       "      <td>...</td>\n",
       "      <td>8</td>\n",
       "      <td>1680</td>\n",
       "      <td>0</td>\n",
       "      <td>1987</td>\n",
       "      <td>0</td>\n",
       "      <td>98074</td>\n",
       "      <td>47.6168</td>\n",
       "      <td>-122.045</td>\n",
       "      <td>1800</td>\n",
       "      <td>7503</td>\n",
       "    </tr>\n",
       "    <tr>\n",
       "      <td>3</td>\n",
       "      <td>6</td>\n",
       "      <td>7237550310</td>\n",
       "      <td>20140512T000000</td>\n",
       "      <td>1225000</td>\n",
       "      <td>4</td>\n",
       "      <td>4.50</td>\n",
       "      <td>5420</td>\n",
       "      <td>101930</td>\n",
       "      <td>1.0</td>\n",
       "      <td>0</td>\n",
       "      <td>...</td>\n",
       "      <td>11</td>\n",
       "      <td>3890</td>\n",
       "      <td>1530</td>\n",
       "      <td>2001</td>\n",
       "      <td>0</td>\n",
       "      <td>98053</td>\n",
       "      <td>47.6561</td>\n",
       "      <td>-122.005</td>\n",
       "      <td>4760</td>\n",
       "      <td>101930</td>\n",
       "    </tr>\n",
       "    <tr>\n",
       "      <td>4</td>\n",
       "      <td>7</td>\n",
       "      <td>1321400060</td>\n",
       "      <td>20140627T000000</td>\n",
       "      <td>257500</td>\n",
       "      <td>3</td>\n",
       "      <td>2.25</td>\n",
       "      <td>1715</td>\n",
       "      <td>6819</td>\n",
       "      <td>2.0</td>\n",
       "      <td>0</td>\n",
       "      <td>...</td>\n",
       "      <td>7</td>\n",
       "      <td>1715</td>\n",
       "      <td>0</td>\n",
       "      <td>1995</td>\n",
       "      <td>0</td>\n",
       "      <td>98003</td>\n",
       "      <td>47.3097</td>\n",
       "      <td>-122.327</td>\n",
       "      <td>2238</td>\n",
       "      <td>6819</td>\n",
       "    </tr>\n",
       "  </tbody>\n",
       "</table>\n",
       "<p>5 rows × 22 columns</p>\n",
       "</div>"
      ],
      "text/plain": [
       "   Unnamed: 0          id             date    price  bedrooms  bathrooms  \\\n",
       "0           2  6414100192  20141209T000000   538000         3       2.25   \n",
       "1           4  2487200875  20141209T000000   604000         4       3.00   \n",
       "2           5  1954400510  20150218T000000   510000         3       2.00   \n",
       "3           6  7237550310  20140512T000000  1225000         4       4.50   \n",
       "4           7  1321400060  20140627T000000   257500         3       2.25   \n",
       "\n",
       "   sqft_living  sqft_lot  floors  waterfront  ...  grade  sqft_above  \\\n",
       "0         2570      7242     2.0           0  ...      7        2170   \n",
       "1         1960      5000     1.0           0  ...      7        1050   \n",
       "2         1680      8080     1.0           0  ...      8        1680   \n",
       "3         5420    101930     1.0           0  ...     11        3890   \n",
       "4         1715      6819     2.0           0  ...      7        1715   \n",
       "\n",
       "   sqft_basement  yr_built  yr_renovated  zipcode      lat     long  \\\n",
       "0            400      1951          1991    98125  47.7210 -122.319   \n",
       "1            910      1965             0    98136  47.5208 -122.393   \n",
       "2              0      1987             0    98074  47.6168 -122.045   \n",
       "3           1530      2001             0    98053  47.6561 -122.005   \n",
       "4              0      1995             0    98003  47.3097 -122.327   \n",
       "\n",
       "   sqft_living15  sqft_lot15  \n",
       "0           1690        7639  \n",
       "1           1360        5000  \n",
       "2           1800        7503  \n",
       "3           4760      101930  \n",
       "4           2238        6819  \n",
       "\n",
       "[5 rows x 22 columns]"
      ]
     },
     "execution_count": 3,
     "metadata": {},
     "output_type": "execute_result"
    }
   ],
   "source": [
    "train_data.head()"
   ]
  },
  {
   "cell_type": "code",
   "execution_count": 4,
   "metadata": {},
   "outputs": [],
   "source": [
    "#a) R^2 on training data\n",
    "y_train = train_data[[\"price\"]]\n",
    "X_train = train_data[['bedrooms',\"bathrooms\",\"sqft_living\",\"sqft_lot\"]]\n",
    "\n",
    "y_test = test_data[[\"price\"]]\n",
    "X_test = test_data[['bedrooms',\"bathrooms\",\"sqft_living\",\"sqft_lot\"]]\n",
    "\n",
    "\n"
   ]
  },
  {
   "cell_type": "code",
   "execution_count": 5,
   "metadata": {},
   "outputs": [
    {
     "name": "stdout",
     "output_type": "stream",
     "text": [
      "Training R^2:  0.5101138530794578\n",
      "Test R^2:  0.504994461403709\n"
     ]
    }
   ],
   "source": [
    "#fit model\n",
    "linear_model = LinearRegression().fit(X = X_train, y = y_train)\n",
    "\n",
    "#generate predictions using train data to calculate training R^2\n",
    "train_preds = linear_model.predict(X_train)\n",
    "test_preds = linear_model.predict(X_test)\n",
    "\n",
    "print(\"Training R^2:  {}\".format(r2_score(y_true = y_train,y_pred=train_preds)))\n",
    "print(\"Test R^2:  {}\".format(r2_score(y_true = y_test, y_pred=test_preds)))\n"
   ]
  },
  {
   "cell_type": "code",
   "execution_count": 6,
   "metadata": {},
   "outputs": [
    {
     "name": "stdout",
     "output_type": "stream",
     "text": [
      "Predicted Price of Bill Gate's House:   [15436769.53822442]\n"
     ]
    }
   ],
   "source": [
    "#b)\n",
    "fancy_house_data = fancy_house[['bedrooms',\"bathrooms\",\"sqft_living\",\"sqft_lot\"]]#select the correct variables for the model\n",
    "\n",
    "#predict price of the house\n",
    "predicted_price = linear_model.predict(fancy_house_data)\n",
    "\n",
    "print(\"Predicted Price of Bill Gate's House:   {}\".format(predicted_price[0]))\n",
    "\n",
    "#\n"
   ]
  },
  {
   "cell_type": "markdown",
   "metadata": {},
   "source": [
    "15 milly for Bill Gate's compound? Seems  a little low honestly"
   ]
  },
  {
   "cell_type": "code",
   "execution_count": 7,
   "metadata": {},
   "outputs": [
    {
     "name": "stdout",
     "output_type": "stream",
     "text": [
      "New Training R^2:  0.5173532927738305\n",
      "New Test R^2:  0.5105355458590626\n"
     ]
    },
    {
     "name": "stderr",
     "output_type": "stream",
     "text": [
      "/Users/collinkennedy/opt/anaconda3/lib/python3.7/site-packages/ipykernel_launcher.py:3: SettingWithCopyWarning: \n",
      "A value is trying to be set on a copy of a slice from a DataFrame.\n",
      "Try using .loc[row_indexer,col_indexer] = value instead\n",
      "\n",
      "See the caveats in the documentation: http://pandas.pydata.org/pandas-docs/stable/user_guide/indexing.html#returning-a-view-versus-a-copy\n",
      "  This is separate from the ipykernel package so we can avoid doing imports until\n",
      "/Users/collinkennedy/opt/anaconda3/lib/python3.7/site-packages/ipykernel_launcher.py:4: SettingWithCopyWarning: \n",
      "A value is trying to be set on a copy of a slice from a DataFrame.\n",
      "Try using .loc[row_indexer,col_indexer] = value instead\n",
      "\n",
      "See the caveats in the documentation: http://pandas.pydata.org/pandas-docs/stable/user_guide/indexing.html#returning-a-view-versus-a-copy\n",
      "  after removing the cwd from sys.path.\n",
      "/Users/collinkennedy/opt/anaconda3/lib/python3.7/site-packages/ipykernel_launcher.py:5: SettingWithCopyWarning: \n",
      "A value is trying to be set on a copy of a slice from a DataFrame.\n",
      "Try using .loc[row_indexer,col_indexer] = value instead\n",
      "\n",
      "See the caveats in the documentation: http://pandas.pydata.org/pandas-docs/stable/user_guide/indexing.html#returning-a-view-versus-a-copy\n",
      "  \"\"\"\n"
     ]
    }
   ],
   "source": [
    "#c)\n",
    "#update data with new variable\n",
    "X_train[\"bed_bath_interaction\"] = X_train[\"bedrooms\"]*X_train[\"bathrooms\"]\n",
    "X_test[\"bed_bath_interaction\"] = X_test[\"bedrooms\"]* X_test[\"bathrooms\"]\n",
    "fancy_house_data[\"bed_bath_interaction\"] = fancy_house_data[\"bedrooms\"]*fancy_house_data[\"bathrooms\"]\n",
    "\n",
    "\n",
    "linear_model = LinearRegression().fit(X = X_train, y = y_train)\n",
    "\n",
    "#generate predictions using train data to calculate training R^2\n",
    "train_preds = linear_model.predict(X_train)\n",
    "test_preds = linear_model.predict(X_test)\n",
    "\n",
    "print(\"New Training R^2:  {}\".format(r2_score(y_true = y_train,y_pred=train_preds)))\n",
    "print(\"New Test R^2:  {}\".format(r2_score(y_true = y_test, y_pred=test_preds)))\n"
   ]
  },
  {
   "cell_type": "markdown",
   "metadata": {},
   "source": [
    "**Part d)**"
   ]
  },
  {
   "cell_type": "code",
   "execution_count": 16,
   "metadata": {},
   "outputs": [],
   "source": [
    "#d)\n",
    "\n",
    "def gradient_descent(X,y, learning_parameter = .000000000000076, max_iter = 1000, tau = 1):\n",
    "    #X is our data matrix\n",
    "    #y is our vector of observed outcomes\n",
    "    #beta vector is our initial guess of our beta's\n",
    "    #learning parameter determines the rate at which the function converges\n",
    "    #n_iterations determines the number of iterations\n",
    "    X = np.array(X)\n",
    "    y = np.array(y)\n",
    "    n = len(y)\n",
    "    p = X.shape[1]\n",
    "\n",
    "    #use this to store SSE\n",
    "    MSE_list = list()\n",
    "    \n",
    "    #initialize random betas\n",
    "    beta = np.random.normal(size = p ).reshape(p,1)\n",
    "\n",
    "    \n",
    "    iter_counter = 0\n",
    "    while True:\n",
    "\n",
    "        #calculate gradient\n",
    "        gradient = X.T @ (X @ beta - y)\n",
    "\n",
    "        #update beta vector\n",
    "        beta = beta - learning_parameter * gradient\n",
    "\n",
    "        #calculate norm of the gradient. if this falls below the threshold end loop\n",
    "        gradient_norm = np.linalg.norm(beta)\n",
    "\n",
    "        #calculate predictions for the current iteration\n",
    "        y_hat = X @ beta\n",
    "        rsquare = r2_score(y_true = y, y_pred = y_hat)\n",
    "        MSE = mean_squared_error(y_true = y, y_pred = y_hat)\n",
    "        MSE_list.append(MSE)\n",
    "        if(iter_counter in [1,max_iter-1,max_iter-2]):\n",
    "            print(\"R^2 of current iteration:   {}\".format(rsquare))\n",
    "        iter_counter +=1\n",
    "        if(gradient_norm < tau or iter_counter > max_iter):\n",
    "            break\n",
    "    \n",
    "    return(beta, MSE_list)\n",
    "    \n",
    "    "
   ]
  },
  {
   "cell_type": "code",
   "execution_count": 17,
   "metadata": {},
   "outputs": [
    {
     "name": "stdout",
     "output_type": "stream",
     "text": [
      "R^2 of current iteration:   -2.0973904511671897\n",
      "R^2 of current iteration:   0.49249213470019937\n",
      "R^2 of current iteration:   0.4924931595807125\n"
     ]
    }
   ],
   "source": [
    "betas, returned_MSE_list = gradient_descent(X_train,y_train)"
   ]
  },
  {
   "cell_type": "code",
   "execution_count": 18,
   "metadata": {},
   "outputs": [
    {
     "data": {
      "image/png": "[encoded data removed]",
      "text/plain": [
       "<Figure size 432x288 with 1 Axes>"
      ]
     },
     "metadata": {},
     "output_type": "display_data"
    }
   ],
   "source": [
    "from matplotlib import style\n",
    "style.use('dark_background')\n",
    "plt.figure()\n",
    "plt.plot(np.arange(0, len(returned_MSE_list)), returned_MSE_list) ## fix\n",
    "plt.title(\"Training Loss: Mean Squared Error \")\n",
    "plt.xlabel(\"iterations\")\n",
    "plt.ylabel(\"Mean Squared Error\")\n",
    "plt.show()"
   ]
  },
  {
   "cell_type": "code",
   "execution_count": 21,
   "metadata": {},
   "outputs": [
    {
     "name": "stdout",
     "output_type": "stream",
     "text": [
      "R^2 of current iteration:   -1.8710858127099494\n",
      "R^2 of current iteration:   0.49249294464238735\n",
      "R^2 of current iteration:   0.49249398973852776\n",
      "Train R2 (Model w/ Gradient Descent):   0.4924950244434616\n",
      "Test R2 (Model w/ Gradient Descent):    0.48905967002830364\n"
     ]
    }
   ],
   "source": [
    "# REPEAT a)\n",
    "#standardize X_train\n",
    "\n",
    "variables = [\"bedrooms\",\"bathrooms\",\"sqft_living\",\"sqft_lot\"]\n",
    "\n",
    "betas_gd_A, returned_MSE_list = gradient_descent(X_train[variables],y_train)\n",
    "\n",
    "#calculate predictions\n",
    "y_hat_gd_A_train = X_train[variables] @ betas_gd_A # get predictions for training data\n",
    "train_r2 = r2_score(y_true = y_train, y_pred = y_hat_gd_A_train) #training R2\n",
    "y_hat_gd_A_test = X_test[variables] @ betas_gd_A # get test predictions\n",
    "test_r2 = r2_score(y_true = y_test, y_pred = y_hat_gd_A_test)\n",
    "\n",
    "\n",
    "print(\"Train R2 (Model w/ Gradient Descent):   {}\".format(train_r2))\n",
    "print(\"Test R2 (Model w/ Gradient Descent):    {}\".format(test_r2))"
   ]
  },
  {
   "cell_type": "code",
   "execution_count": null,
   "metadata": {},
   "outputs": [],
   "source": [
    "#Repeat part b)\n"
   ]
  },
  {
   "cell_type": "code",
   "execution_count": null,
   "metadata": {},
   "outputs": [],
   "source": [
    "#Repeat b)\n",
    "betas_gd_A, returned_MSE_list = gradient_descent(X_train[variables],y_train)\n",
    "\n",
    "#calculate predictions\n",
    "y_hat_gd_A_train = X_train[variables] @ betas_gd_A # get predictions for training data\n",
    "train_r2 = r2_score(y_true = y_train, y_pred = y_hat_gd_A_train) #training R2\n",
    "y_hat_gd_A_test = X_test[variables] @ betas_gd_A # get test predictions\n",
    "test_r2 = r2_score(y_true = y_test, y_pred = y_hat_gd_A_test)\n",
    "\n",
    "\n",
    "print(\"Train R2 (Model w/ Gradient Descent):   {}\".format(train_r2))\n",
    "print(\"Test R2 (Model w/ Gradient Descent):    {}\".format(test_r2))"
   ]
  }
 ],
 "metadata": {
  "interpreter": {
   "hash": "39d961a08718555772bb0ac411a6b2b438a184f9ac0d65f0613f436450256741"
  },
  "kernelspec": {
   "display_name": "Python 3.7.4 ('base')",
   "language": "python",
   "name": "python3"
  },
  "language_info": {
   "codemirror_mode": {
    "name": "ipython",
    "version": 3
   },
   "file_extension": ".py",
   "mimetype": "text/x-python",
   "name": "python",
   "nbconvert_exporter": "python",
   "pygments_lexer": "ipython3",
   "version": "3.7.4"
  },
  "orig_nbformat": 4
 },
 "nbformat": 4,
 "nbformat_minor": 2
}
