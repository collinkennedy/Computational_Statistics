{
 "cells": [
  {
   "cell_type": "code",
   "execution_count": 36,
   "metadata": {},
   "outputs": [],
   "source": [
    "#get MNIST data\n",
    "#first import necessary libraries\n",
    "import numpy as np\n",
    "import pandas as pd\n",
    "import tensorflow as tf\n",
    "import pickle\n",
    "import gzip\n",
    "import tensorflow as tf\n",
    "from skimage.transform import downscale_local_mean\n",
    "import scipy.stats\n",
    "from tqdm import tqdm\n",
    "import matplotlib.pyplot as plt\n",
    "import seaborn as sns\n",
    "from keras.datasets import  mnist\n",
    "from sklearn.metrics import accuracy_score\n",
    "\n",
    "\n"
   ]
  },
  {
   "cell_type": "code",
   "execution_count": 27,
   "metadata": {},
   "outputs": [
    {
     "name": "stdout",
     "output_type": "stream",
     "text": [
      "X_train: (60000, 28, 28)\n",
      "Y_train: (60000,)\n",
      "X_test:  (10000, 28, 28)\n",
      "Y_test:  (10000,)\n"
     ]
    }
   ],
   "source": [
    "#get the data from keras\n",
    "(X_train, y_train), (X_test, y_test) = tf.keras.datasets.mnist.load_data()\n",
    "print('X_train: ' + str(X_train.shape)) #60000 observations, 28 x 28 matrices\n",
    "print('Y_train: ' + str(y_train.shape))\n",
    "print('X_test:  '  + str(X_test.shape)) \n",
    "print('Y_test:  '  + str(y_test.shape))\n"
   ]
  },
  {
   "cell_type": "code",
   "execution_count": 4,
   "metadata": {},
   "outputs": [
    {
     "data": {
      "text/plain": [
       "array([[[0, 0, 0, ..., 0, 0, 0],\n",
       "        [0, 0, 0, ..., 0, 0, 0],\n",
       "        [0, 0, 0, ..., 0, 0, 0],\n",
       "        ...,\n",
       "        [0, 0, 0, ..., 0, 0, 0],\n",
       "        [0, 0, 0, ..., 0, 0, 0],\n",
       "        [0, 0, 0, ..., 0, 0, 0]],\n",
       "\n",
       "       [[0, 0, 0, ..., 0, 0, 0],\n",
       "        [0, 0, 0, ..., 0, 0, 0],\n",
       "        [0, 0, 0, ..., 0, 0, 0],\n",
       "        ...,\n",
       "        [0, 0, 0, ..., 0, 0, 0],\n",
       "        [0, 0, 0, ..., 0, 0, 0],\n",
       "        [0, 0, 0, ..., 0, 0, 0]],\n",
       "\n",
       "       [[0, 0, 0, ..., 0, 0, 0],\n",
       "        [0, 0, 0, ..., 0, 0, 0],\n",
       "        [0, 0, 0, ..., 0, 0, 0],\n",
       "        ...,\n",
       "        [0, 0, 0, ..., 0, 0, 0],\n",
       "        [0, 0, 0, ..., 0, 0, 0],\n",
       "        [0, 0, 0, ..., 0, 0, 0]],\n",
       "\n",
       "       ...,\n",
       "\n",
       "       [[0, 0, 0, ..., 0, 0, 0],\n",
       "        [0, 0, 0, ..., 0, 0, 0],\n",
       "        [0, 0, 0, ..., 0, 0, 0],\n",
       "        ...,\n",
       "        [0, 0, 0, ..., 0, 0, 0],\n",
       "        [0, 0, 0, ..., 0, 0, 0],\n",
       "        [0, 0, 0, ..., 0, 0, 0]],\n",
       "\n",
       "       [[0, 0, 0, ..., 0, 0, 0],\n",
       "        [0, 0, 0, ..., 0, 0, 0],\n",
       "        [0, 0, 0, ..., 0, 0, 0],\n",
       "        ...,\n",
       "        [0, 0, 0, ..., 0, 0, 0],\n",
       "        [0, 0, 0, ..., 0, 0, 0],\n",
       "        [0, 0, 0, ..., 0, 0, 0]],\n",
       "\n",
       "       [[0, 0, 0, ..., 0, 0, 0],\n",
       "        [0, 0, 0, ..., 0, 0, 0],\n",
       "        [0, 0, 0, ..., 0, 0, 0],\n",
       "        ...,\n",
       "        [0, 0, 0, ..., 0, 0, 0],\n",
       "        [0, 0, 0, ..., 0, 0, 0],\n",
       "        [0, 0, 0, ..., 0, 0, 0]]], dtype=uint8)"
      ]
     },
     "execution_count": 4,
     "metadata": {},
     "output_type": "execute_result"
    }
   ],
   "source": [
    "X_train"
   ]
  },
  {
   "cell_type": "code",
   "execution_count": 5,
   "metadata": {},
   "outputs": [
    {
     "name": "stderr",
     "output_type": "stream",
     "text": [
      "  0%|          | 0/2 [00:00<?, ?it/s]"
     ]
    },
    {
     "data": {
      "image/png": "[encoded data removed]",
      "text/plain": [
       "<Figure size 432x288 with 1 Axes>"
      ]
     },
     "metadata": {
      "needs_background": "light"
     },
     "output_type": "display_data"
    },
    {
     "data": {
      "image/png": "[encoded data removed]",
      "text/plain": [
       "<Figure size 432x288 with 1 Axes>"
      ]
     },
     "metadata": {
      "needs_background": "light"
     },
     "output_type": "display_data"
    },
    {
     "name": "stderr",
     "output_type": "stream",
     "text": [
      "100%|██████████| 2/2 [00:00<00:00, 18.64it/s]\n"
     ]
    }
   ],
   "source": [
    "from matplotlib import pyplot\n",
    "#take a look at a couple of the images for fun\n",
    "for i in tqdm(range(2)):  \n",
    "    pyplot.subplot(330 + 1 + i)\n",
    "    pyplot.imshow(X_train[i], cmap=pyplot.get_cmap('gray'))\n",
    "    pyplot.show()"
   ]
  },
  {
   "cell_type": "code",
   "execution_count": 6,
   "metadata": {},
   "outputs": [],
   "source": [
    "factors = (2,2) #2x2 blocks \n",
    "\n",
    "#initialize downscaled 3dimensional array\n",
    "X_train_ds = list()\n",
    "#for each image in the training data set, downscale by calculating the local mean of each 2x2 block and create a new 14x14 image\n",
    "for i in range(len(X_train)):\n",
    "    #downscale the bih\n",
    "    ith_downscaled_image = downscale_local_mean(X_train[i], factors, cval=0, clip=True)\n",
    "    \n",
    "    #append it to downscaled training data\n",
    "    X_train_ds.append(ith_downscaled_image)\n",
    "    \n",
    "#make it a 3 d array\n",
    "X_train_ds = np.array(X_train_ds)"
   ]
  },
  {
   "cell_type": "code",
   "execution_count": 7,
   "metadata": {},
   "outputs": [],
   "source": [
    "X_train_ds.shape #seems to have worked, X_train_ds is the downscaled version, each element is a 14 by 14 matrix\n",
    "\n",
    "#for using in (the EM) algorithm, each sample should be treated as a vector (14x14 = 196 dimensional vector)\n",
    "X_train_vectorized = X_train_ds.reshape(60000,196)"
   ]
  },
  {
   "cell_type": "code",
   "execution_count": 39,
   "metadata": {},
   "outputs": [],
   "source": [
    "#for our purposes we only want to consider image 5 image classes: {0,1,2,3,4}\n",
    "#drop the rest\n",
    "\n",
    "\n",
    "#find the indices from y_train that are 5,6,7,8,9\n",
    "bool_arr = (y_train >= 5) #find the indices of the images we don't want to cluster/consider\n",
    "drop_indices = np.where(bool_arr)\n",
    "\n",
    "#delete them from y_train\n",
    "y_train_0_4 = np.delete(y_train, drop_indices)\n",
    "\n",
    "#delete them from X_train as well\n",
    "X_train_vectorized_0_4 = np.delete(X_train_vectorized, drop_indices, axis = 0) #drop the correct indices row-wise (axis = 0)\n",
    "#remember, each row now corresponds to an image"
   ]
  },
  {
   "cell_type": "code",
   "execution_count": 10,
   "metadata": {},
   "outputs": [],
   "source": [
    "X_train_vectorized_0_4_normalized = X_train_vectorized_0_4*(1/255)"
   ]
  },
  {
   "cell_type": "code",
   "execution_count": 11,
   "metadata": {},
   "outputs": [
    {
     "data": {
      "text/plain": [
       "array([0.        , 0.        , 0.        , 0.        , 0.        ,\n",
       "       0.        , 0.        , 0.        , 0.        , 0.        ,\n",
       "       0.        , 0.        , 0.        , 0.        , 0.        ,\n",
       "       0.        , 0.        , 0.        , 0.        , 0.        ,\n",
       "       0.        , 0.        , 0.        , 0.        , 0.        ,\n",
       "       0.        , 0.        , 0.        , 0.        , 0.        ,\n",
       "       0.        , 0.        , 0.        , 0.        , 0.        ,\n",
       "       0.33039216, 0.89803922, 0.68431373, 0.        , 0.        ,\n",
       "       0.        , 0.        , 0.        , 0.        , 0.        ,\n",
       "       0.        , 0.        , 0.00980392, 0.33137255, 0.96568627,\n",
       "       0.92647059, 0.80490196, 0.42941176, 0.        , 0.        ,\n",
       "       0.        , 0.        , 0.        , 0.        , 0.        ,\n",
       "       0.        , 0.44313725, 0.99019608, 0.79313725, 0.96568627,\n",
       "       0.40294118, 0.82647059, 0.        , 0.        , 0.        ,\n",
       "       0.        , 0.        , 0.        , 0.        , 0.24607843,\n",
       "       0.95686275, 0.70882353, 0.08529412, 0.13921569, 0.        ,\n",
       "       0.98137255, 0.21078431, 0.        , 0.        , 0.        ,\n",
       "       0.        , 0.        , 0.0627451 , 0.91568627, 0.36666667,\n",
       "       0.04607843, 0.        , 0.        , 0.        , 0.99019608,\n",
       "       0.38235294, 0.        , 0.        , 0.        , 0.        ,\n",
       "       0.        , 0.50980392, 0.79117647, 0.        , 0.        ,\n",
       "       0.        , 0.        , 0.        , 0.99313725, 0.3372549 ,\n",
       "       0.        , 0.        , 0.        , 0.        , 0.        ,\n",
       "       0.66078431, 0.46862745, 0.        , 0.        , 0.        ,\n",
       "       0.00686275, 0.51470588, 0.72058824, 0.01176471, 0.        ,\n",
       "       0.        , 0.        , 0.        , 0.        , 0.6627451 ,\n",
       "       0.3627451 , 0.        , 0.        , 0.11176471, 0.69019608,\n",
       "       0.5754902 , 0.        , 0.        , 0.        , 0.        ,\n",
       "       0.        , 0.        , 0.        , 0.66078431, 0.88137255,\n",
       "       0.51078431, 0.75196078, 0.90784314, 0.50980392, 0.05490196,\n",
       "       0.        , 0.        , 0.        , 0.        , 0.        ,\n",
       "       0.        , 0.        , 0.24705882, 0.86666667, 0.99019608,\n",
       "       0.65      , 0.14215686, 0.        , 0.        , 0.        ,\n",
       "       0.        , 0.        , 0.        , 0.        , 0.        ,\n",
       "       0.        , 0.        , 0.        , 0.        , 0.        ,\n",
       "       0.        , 0.        , 0.        , 0.        , 0.        ,\n",
       "       0.        , 0.        , 0.        , 0.        , 0.        ,\n",
       "       0.        , 0.        , 0.        , 0.        , 0.        ,\n",
       "       0.        , 0.        , 0.        , 0.        , 0.        ,\n",
       "       0.        ])"
      ]
     },
     "execution_count": 11,
     "metadata": {},
     "output_type": "execute_result"
    }
   ],
   "source": [
    "X_train_vectorized_0_4_normalized[0]"
   ]
  },
  {
   "cell_type": "code",
   "execution_count": 15,
   "metadata": {},
   "outputs": [],
   "source": [
    "def logsumexp(x):\n",
    "    c = x.max()\n",
    "    return c + np.log(np.sum(np.exp(x - c)))"
   ]
  },
  {
   "cell_type": "markdown",
   "metadata": {},
   "source": [
    "**EM Algorithm**"
   ]
  },
  {
   "cell_type": "code",
   "execution_count": 16,
   "metadata": {},
   "outputs": [],
   "source": [
    "#Assume 5 clusters/classes\n",
    "def em(data, k: int = 5, max_iter = 10, spherical = False, seed = 42, threshold = .0001):\n",
    "\n",
    "    '''\n",
    "    'data' is the dataset being clustered\n",
    "    'k\" is the number of classes we are assuming for the latent variable\n",
    "    'max_iter' is the number of iterations for the EM algorithm to run    \n",
    "    '''\n",
    "    ###### INITIALIZATION\n",
    "    np.random.seed(seed)\n",
    "    #first initialize the maw fuckas\n",
    "    n,p = data.shape #number of rows (n), number of columns (p)\n",
    "    mus = np.random.rand(k,p) #need k mu vectors each of size p (196)\n",
    "    class_probs = np.ones(k)*(1/k) #initialize with equal probability weights\n",
    "    \n",
    "    #same initialization of sigma for both diagonal and spherical gaussian mixtures\n",
    "    sigmas = np.array([np.eye(p)*2 for _ in range(k)])\n",
    "\n",
    "    #store the log likelihoods:\n",
    "    log_likelihoods = [0]\n",
    "\n",
    "\n",
    "    #initialize empty responsibilities matrix\n",
    "    log_responsibilities = np.zeros(shape = (n,k)) #each observation/row/image should have k probs associated with it (representing prob it belongs to the jth class)\n",
    "    f_ij = np.zeros(shape = (n,k))\n",
    "    #iterate \n",
    "    for iteration in tqdm(range(max_iter)):\n",
    "\n",
    "        ######## E-Step\n",
    "        for j in range(k):\n",
    "            log_responsibilities[:,j] = scipy.stats.multivariate_normal(mean = mus[j], cov=sigmas[j]).logpdf(data) + np.log(class_probs[j])\n",
    "           \n",
    "        \n",
    "        #use logexpsum to convert rows to probabilities (rows sum to 1)\n",
    "        for i in range(len(data)):\n",
    "            f_ij[i,:] = np.exp(log_responsibilities[i,:] - round(logsumexp(log_responsibilities[i,:]),8))\n",
    "\n",
    "\n",
    "        #column sums of the f_ij matrix, will be used frequently in the M -step\n",
    "        f_j = np.sum(f_ij, axis = 0) #i think i've basically summed over i here for each j... so this is SUMi=1 to N \n",
    "\n",
    "\n",
    "        #### M-Step\n",
    "\n",
    "        #update class probabilities\n",
    "    \n",
    "        class_probs = f_j/n\n",
    "\n",
    "        #update mus (all k of them)\n",
    "        for j in range(k):\n",
    "            mus[j] = np.nan_to_num(np.sum(data * f_ij[:, j].reshape(len(data),1), axis=0)) / f_j[j]\n",
    "        \n",
    "\n",
    "        #spherical or gaussian\n",
    "        if spherical == True:\n",
    "            \n",
    "            #list for storing the k sigma squared values\n",
    "            sigma_squareds = []  \n",
    "\n",
    "            for j in range(k):\n",
    "                numerator_j = 0\n",
    "\n",
    "                for i in range(n): #ith observation of the jth column matrix in f_ij x (ith row vec - jth mean vec)^T (ith row vec - jth mean vec)\n",
    "                    numerator_j += f_ij[i,j] * (data[i,:] - mus[j] ).T @ (data[i,:] - mus[j])\n",
    "                \n",
    "                #after loop over all the observations for a given j, divide by p * f_j (the jth column mean of f_ij) and append to list\n",
    "                sigma_squared_j = numerator_j / (p*f_j[j])\n",
    "                sigma_squareds.append(sigma_squared_j)\n",
    "\n",
    "            #create the sigma matrices and re-assign to the initial ones\n",
    "            sigmas = np.array([np.eye(p)*sigma_squareds[i] for i in range(k)])        \n",
    "\n",
    "        #gaussian\n",
    "        else:\n",
    "            for j in range(k):\n",
    "\n",
    "                numerator_matrix_j = np.zeros(shape = (p,p)) #gonna add the matrices u get in the next loop iteratively to this\n",
    "\n",
    "                for i in range(n):\n",
    "                    \n",
    "                    numerator_matrix_j += f_ij[i,j] * (data[i,:] - mus[j]).reshape(p,1) @ ((data[i,:] - mus[j]).reshape(p,1)).T\n",
    "\n",
    "                sigma_j = numerator_matrix_j / (f_j[j])\n",
    "                \n",
    "                #assign the new sigma_j to the sigmas list\n",
    "                sigmas[j] = sigma_j + np.eye(p)*.05\n",
    "                    \n",
    "\n",
    "        row_likelihoods = []\n",
    "        ll = (np.array([np.log(class_probs[j]) + scipy.stats.multivariate_normal(mean = mus[j], cov = sigmas[j]).logpdf(data) for j in range(k)])).T\n",
    "        row_likelihoods.append(logsumexp(ll[i,:]))\n",
    "        log_likelihood = sum(row_likelihoods)\n",
    "        print(\"log-likelihood: {} at iteration {:3f}\".format(log_likelihood, iteration ))\n",
    "\n",
    "        #append the log_likelihoods to the list\n",
    "        log_likelihoods.append(log_likelihood)\n",
    "        if np.abs(log_likelihood - log_likelihoods[-2]) < threshold:\n",
    "            break\n",
    "\n",
    "\n",
    "\n",
    "    return class_probs, mus, sigmas, log_responsibilities,f_ij, sigma_squareds,ll,log_likelihoods\n",
    "        \n"
   ]
  },
  {
   "cell_type": "code",
   "execution_count": null,
   "metadata": {},
   "outputs": [],
   "source": [
    "returned_class_probs, returned_mus, returned_sigmas,ret_log_responsibilities,ret_f_ij, returned_sigmas,ll, log_likelihoods = em(X_train_vectorized_0_4,k = 5,max_iter = 20, spherical = True)"
   ]
  },
  {
   "cell_type": "code",
   "execution_count": 40,
   "metadata": {},
   "outputs": [
    {
     "data": {
      "text/plain": [
       "0.3762910184337822"
      ]
     },
     "execution_count": 40,
     "metadata": {},
     "output_type": "execute_result"
    }
   ],
   "source": [
    "predictions = np.argmax(ret_f_ij,axis=1) #get the index of the column \n",
    "\n",
    "#calculate accuracy\n",
    "accuracy_score(y_true = y_train_0_4, y_pred = predictions)"
   ]
  },
  {
   "cell_type": "code",
   "execution_count": 25,
   "metadata": {},
   "outputs": [
    {
     "data": {
      "text/plain": [
       "array([[1.00000000e+000, 7.97908576e-280, 1.62253204e-049,\n",
       "        4.88501339e-307, 2.58759641e-047],\n",
       "       [8.05316066e-043, 9.28508424e-206, 9.99999996e-001,\n",
       "        1.35701303e-208, 8.20217106e-024],\n",
       "       [1.17450504e-111, 1.00000000e+000, 5.41331937e-066,\n",
       "        4.55481013e-165, 8.16598566e-068],\n",
       "       ...,\n",
       "       [7.25607818e-037, 6.55019443e-161, 9.99999999e-001,\n",
       "        1.21157957e-201, 1.74816916e-032],\n",
       "       [3.65530294e-073, 9.99999997e-001, 1.43702733e-027,\n",
       "        4.41453614e-081, 5.59706235e-035],\n",
       "       [3.56476217e-034, 2.72381786e-171, 2.12449664e-020,\n",
       "        1.17234436e-193, 1.00000000e+000]])"
      ]
     },
     "execution_count": 25,
     "metadata": {},
     "output_type": "execute_result"
    }
   ],
   "source": []
  },
  {
   "cell_type": "code",
   "execution_count": 32,
   "metadata": {},
   "outputs": [
    {
     "data": {
      "image/png": "[encoded data removed]",
      "text/plain": [
       "<Figure size 432x288 with 1 Axes>"
      ]
     },
     "metadata": {},
     "output_type": "display_data"
    }
   ],
   "source": [
    "#plot log\n",
    "from matplotlib import style\n",
    "style.use('dark_background')\n",
    "plt.figure()\n",
    "plt.plot(np.arange(0, len(log_likelihoods[1:])), log_likelihoods[1:]) ## fix\n",
    "plt.title(\"Log Likelihoods for EM algorithm \")\n",
    "plt.xlabel(\"iterations\")\n",
    "plt.ylabel(\"Log Likelihood\")\n",
    "plt.show()"
   ]
  },
  {
   "cell_type": "code",
   "execution_count": null,
   "metadata": {},
   "outputs": [],
   "source": []
  }
 ],
 "metadata": {
  "interpreter": {
   "hash": "7e0170e9d12b03cec4caa5ac1fa2b75d8f54049c49cc37e98a32bbea31033ca8"
  },
  "kernelspec": {
   "display_name": "Python 3.9.10",
   "language": "python",
   "name": "python3"
  },
  "language_info": {
   "codemirror_mode": {
    "name": "ipython",
    "version": 3
   },
   "file_extension": ".py",
   "mimetype": "text/x-python",
   "name": "python",
   "nbconvert_exporter": "python",
   "pygments_lexer": "ipython3",
   "version": "3.9.12"
  },
  "orig_nbformat": 4
 },
 "nbformat": 4,
 "nbformat_minor": 2
}
