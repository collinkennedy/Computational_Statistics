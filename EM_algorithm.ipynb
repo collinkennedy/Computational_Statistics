{
 "cells": [
  {
   "cell_type": "code",
   "execution_count": 1,
   "metadata": {},
   "outputs": [],
   "source": [
    "#get MNIST data\n",
    "#first import necessary libraries\n",
    "import numpy as np\n",
    "import pandas as pd\n",
    "import tensorflow as tf\n",
    "import pickle\n",
    "import gzip\n",
    "import tensorflow as tf\n",
    "from skimage.transform import downscale_local_mean\n",
    "import scipy.stats\n",
    "from tqdm import tqdm\n",
    "\n",
    "\n",
    "\n"
   ]
  },
  {
   "cell_type": "code",
   "execution_count": 2,
   "metadata": {},
   "outputs": [
    {
     "name": "stdout",
     "output_type": "stream",
     "text": [
      "X_train: (60000, 28, 28)\n",
      "Y_train: (60000,)\n",
      "X_test:  (10000, 28, 28)\n",
      "Y_test:  (10000,)\n"
     ]
    }
   ],
   "source": [
    "#get the data from keras\n",
    "(X_train, y_train), (X_test, y_test) = tf.keras.datasets.mnist.load_data()\n",
    "print('X_train: ' + str(X_train.shape)) #60000 observations, 28 x 28 matrices\n",
    "print('Y_train: ' + str(y_train.shape))\n",
    "print('X_test:  '  + str(X_test.shape))\n",
    "print('Y_test:  '  + str(y_test.shape))\n"
   ]
  },
  {
   "cell_type": "code",
   "execution_count": 3,
   "metadata": {},
   "outputs": [
    {
     "data": {
      "text/plain": [
       "array([[[0, 0, 0, ..., 0, 0, 0],\n",
       "        [0, 0, 0, ..., 0, 0, 0],\n",
       "        [0, 0, 0, ..., 0, 0, 0],\n",
       "        ...,\n",
       "        [0, 0, 0, ..., 0, 0, 0],\n",
       "        [0, 0, 0, ..., 0, 0, 0],\n",
       "        [0, 0, 0, ..., 0, 0, 0]],\n",
       "\n",
       "       [[0, 0, 0, ..., 0, 0, 0],\n",
       "        [0, 0, 0, ..., 0, 0, 0],\n",
       "        [0, 0, 0, ..., 0, 0, 0],\n",
       "        ...,\n",
       "        [0, 0, 0, ..., 0, 0, 0],\n",
       "        [0, 0, 0, ..., 0, 0, 0],\n",
       "        [0, 0, 0, ..., 0, 0, 0]],\n",
       "\n",
       "       [[0, 0, 0, ..., 0, 0, 0],\n",
       "        [0, 0, 0, ..., 0, 0, 0],\n",
       "        [0, 0, 0, ..., 0, 0, 0],\n",
       "        ...,\n",
       "        [0, 0, 0, ..., 0, 0, 0],\n",
       "        [0, 0, 0, ..., 0, 0, 0],\n",
       "        [0, 0, 0, ..., 0, 0, 0]],\n",
       "\n",
       "       ...,\n",
       "\n",
       "       [[0, 0, 0, ..., 0, 0, 0],\n",
       "        [0, 0, 0, ..., 0, 0, 0],\n",
       "        [0, 0, 0, ..., 0, 0, 0],\n",
       "        ...,\n",
       "        [0, 0, 0, ..., 0, 0, 0],\n",
       "        [0, 0, 0, ..., 0, 0, 0],\n",
       "        [0, 0, 0, ..., 0, 0, 0]],\n",
       "\n",
       "       [[0, 0, 0, ..., 0, 0, 0],\n",
       "        [0, 0, 0, ..., 0, 0, 0],\n",
       "        [0, 0, 0, ..., 0, 0, 0],\n",
       "        ...,\n",
       "        [0, 0, 0, ..., 0, 0, 0],\n",
       "        [0, 0, 0, ..., 0, 0, 0],\n",
       "        [0, 0, 0, ..., 0, 0, 0]],\n",
       "\n",
       "       [[0, 0, 0, ..., 0, 0, 0],\n",
       "        [0, 0, 0, ..., 0, 0, 0],\n",
       "        [0, 0, 0, ..., 0, 0, 0],\n",
       "        ...,\n",
       "        [0, 0, 0, ..., 0, 0, 0],\n",
       "        [0, 0, 0, ..., 0, 0, 0],\n",
       "        [0, 0, 0, ..., 0, 0, 0]]], dtype=uint8)"
      ]
     },
     "execution_count": 3,
     "metadata": {},
     "output_type": "execute_result"
    }
   ],
   "source": [
    "X_train"
   ]
  },
  {
   "cell_type": "code",
   "execution_count": 4,
   "metadata": {},
   "outputs": [
    {
     "name": "stderr",
     "output_type": "stream",
     "text": [
      "  0%|          | 0/2 [00:00<?, ?it/s]"
     ]
    },
    {
     "data": {
      "image/png": "[encoded data removed]",
      "text/plain": [
       "<Figure size 432x288 with 1 Axes>"
      ]
     },
     "metadata": {
      "needs_background": "light"
     },
     "output_type": "display_data"
    },
    {
     "data": {
      "image/png": "[encoded data removed]",
      "text/plain": [
       "<Figure size 432x288 with 1 Axes>"
      ]
     },
     "metadata": {
      "needs_background": "light"
     },
     "output_type": "display_data"
    },
    {
     "name": "stderr",
     "output_type": "stream",
     "text": [
      "100%|██████████| 2/2 [00:00<00:00, 23.96it/s]\n"
     ]
    }
   ],
   "source": [
    "from matplotlib import pyplot\n",
    "#take a look at a couple of the images for fun\n",
    "for i in tqdm(range(2)):  \n",
    "    pyplot.subplot(330 + 1 + i)\n",
    "    pyplot.imshow(X_train[i], cmap=pyplot.get_cmap('gray'))\n",
    "    pyplot.show()"
   ]
  },
  {
   "cell_type": "code",
   "execution_count": 5,
   "metadata": {},
   "outputs": [],
   "source": [
    "factors = (2,2) #2x2 blocks \n",
    "\n",
    "#initialize downscaled 3dimensional array\n",
    "X_train_ds = list()\n",
    "#for each image in the training data set, downscale by calculating the local mean of each 2x2 block and create a new 14x14 image\n",
    "for i in range(len(X_train)):\n",
    "    #downscale the bih\n",
    "    ith_downscaled_image = downscale_local_mean(X_train[i], factors, cval=0, clip=True)\n",
    "    \n",
    "    #append it to downscaled training data\n",
    "    X_train_ds.append(ith_downscaled_image)\n",
    "    \n",
    "#make it a 3 d array\n",
    "X_train_ds = np.array(X_train_ds)"
   ]
  },
  {
   "cell_type": "code",
   "execution_count": 6,
   "metadata": {},
   "outputs": [],
   "source": [
    "X_train_ds.shape #seems to have worked, X_train_ds is the downscaled version, each element is a 14 by 14 matrix\n",
    "\n",
    "#for using in (the EM) algorithm, each sample should be treated as a vector (14x14 = 196 dimensional vector)\n",
    "X_train_vectorized = X_train_ds.reshape(60000,196)"
   ]
  },
  {
   "cell_type": "code",
   "execution_count": 7,
   "metadata": {},
   "outputs": [],
   "source": [
    "#for our purposes we only want to consider image 5 image classes: {0,1,2,3,4}\n",
    "#drop the rest\n",
    "\n",
    "#find the indices from y_train that are 5,6,7,8,9\n",
    "bool_arr = (y_train >= 5) #find the indices of the images we don't want to cluster/consider\n",
    "drop_indices = np.where(bool_arr)\n",
    "\n",
    "#delete them from y_train\n",
    "y_train_0_4 = np.delete(y_train, drop_indices)\n",
    "\n",
    "#delete them from X_train as well\n",
    "X_train_vectorized_0_4 = np.delete(X_train_vectorized, drop_indices, axis = 0) #drop the correct indices row-wise (axis = 0)\n",
    "#remember, each row now corresponds to an image"
   ]
  },
  {
   "cell_type": "code",
   "execution_count": 8,
   "metadata": {},
   "outputs": [],
   "source": [
    "\n",
    "\n",
    "probs = [1/2,1/2] #2 classes\n",
    "k = len(probs)\n",
    "#mu vectors:\n",
    "new_X = np.array_split(X_train_vectorized_0_4,k) #mu vector for each of the k classes\n",
    "mus = np.array([np.mean(x,axis = 0) for x in new_X])\n",
    "sigmas = [np.eye(196,196) for i in range(len(probs))]\n",
    "# cov_matrices = np.array([np.cov(x.T) for x in new_X])\n",
    "f_ij = np.zeros((len(X_train_vectorized_0_4),k))"
   ]
  },
  {
   "cell_type": "code",
   "execution_count": 24,
   "metadata": {},
   "outputs": [
    {
     "data": {
      "text/plain": [
       "(2, 3, 3)"
      ]
     },
     "execution_count": 24,
     "metadata": {},
     "output_type": "execute_result"
    }
   ],
   "source": [
    "sigmas = np.array([np.eye(3,3) for i in range(2)])\n",
    "sigmas.shape"
   ]
  },
  {
   "cell_type": "markdown",
   "metadata": {},
   "source": [
    "**EM Algorithm**"
   ]
  },
  {
   "cell_type": "code",
   "execution_count": 114,
   "metadata": {},
   "outputs": [],
   "source": [
    "#Assume 5 clusters/classes\n",
    "def em(data, k: int = 5, max_iter = 100, spherical = False, seed = 42):\n",
    "\n",
    "    '''\n",
    "    'data' is the dataset being clustered\n",
    "    'k\" is the number of classes we are assuming for the latent variable\n",
    "    'max_iter' is the number of iterations for the EM algorithm to run    \n",
    "    '''\n",
    "    np.random.seed(seed)\n",
    "    #first initialize the maw fuckas\n",
    "    n,p = data.shape #number of rows (n), number of columns (p)\n",
    "    mus = np.random.rand(k,p) #need k mu vectors each of size p (196)\n",
    "    class_probs = np.ones(k)*(1/k) #initialize with equal probability weights\n",
    "    #spherical vs diagonal sigmas\n",
    "    if spherical == False: #diagonal\n",
    "        sigmas = np.array([np.diag(np.random.rand(p)) for _ in range(k)])\n",
    "\n",
    "    else: #spherical (all the same covariances along the diagonal)\n",
    "        sigmas = np.array([np.diag(np.ones(p)*np.random.rand()) for _ in range(k)])\n",
    "\n",
    "\n",
    "    #initialize empty responsibilities matrix\n",
    "    log_responsibilities = np.zeros(shape = (n,k)) #each observation/row/image should have k probs associated with it (representing prob it belongs to the jth class)\n",
    "    responsibilities = np.zeros(shape = (n,k))\n",
    "    #iterate \n",
    "    for _ in tqdm(range(max_iter)):\n",
    "        #### E-Step\n",
    "        for j in range(k):\n",
    "            log_responsibilities[:,j] = scipy.stats.multivariate_normal(mean = mus[j], cov=sigmas[j]).logpdf(data) + np.log(class_probs[j])\n",
    "\n",
    "            #use sumlogexp rule to convert to actual probabilities that aren't logged\n",
    "            responsibilities[:,j] = scipy.special.logsumexp(log_responsibilities[:,j])\n",
    "\n",
    "            \n",
    "\n",
    "        #before M step, normalize rows to sum to 1 \n",
    "        normalized_responsibilities = responsibilities/np.sum(responsibilities,axis=1, keepdims=1)\n",
    "\n",
    "\n",
    "        #calculate the class probabilities\n",
    "        class_resps = np.sum(normalized_responsibilities, axis = 0)\n",
    "\n",
    "\n",
    "        #### M-Step\n",
    "\n",
    "        #update class probabilities\n",
    "        class_probs = class_resps/n\n",
    "\n",
    "        #update mu vector\n",
    "        \n",
    "\n",
    "    return class_probs, mus, sigmas,normalized_responsibilities\n",
    "        \n"
   ]
  },
  {
   "cell_type": "code",
   "execution_count": 93,
   "metadata": {},
   "outputs": [],
   "source": [
    "test_class_probs = np.array([.5,.5]) # 2 classes\n",
    "\n",
    "# 3 variables essentially, so 3 means in each mu vector (2 mu vectors, one for each of the 2 classes)\n",
    "test_mu = np.array([\n",
    "    [.5,-.5,-4],[-3,-2,2]])\n",
    "test_sigma  = \\\n",
    "np.array([\n",
    "    [\n",
    "    [1, .25, .25],\n",
    "    [.25, .5, .25],\n",
    "    [.25, .25, .5],\n",
    "    ],\n",
    "    [\n",
    "    [2, 1, 1],\n",
    "    [1, 3, 1],\n",
    "    [1, 1, 2],\n",
    "    ]\n",
    "])"
   ]
  },
  {
   "cell_type": "code",
   "execution_count": 103,
   "metadata": {},
   "outputs": [],
   "source": [
    "test_data = np.random.multivariate_normal(mean = test_mu[0], cov = test_sigma[0],size = 10) #generate sample data 10 rows (3 dimensional)\n",
    "resp = np.zeros(shape = (10,len(test_class_probs))) #for each of the 10 rows, there should be 2 probabilities, each representing the probability the ith row belongs to jth class\n",
    "for j in range(len(test_class_probs)):\n",
    "    resp[:,j] = scipy.stats.multivariate_normal(mean = test_mu[j], cov = test_sigma[j]).pdf(test_data) * test_class_probs[j]\n",
    "\n",
    "#normalize so rows sum to 1\n",
    "resp_normalized = resp / np.sum(resp,axis = 1,keepdims=1)"
   ]
  },
  {
   "cell_type": "code",
   "execution_count": 115,
   "metadata": {},
   "outputs": [
    {
     "name": "stderr",
     "output_type": "stream",
     "text": [
      "100%|██████████| 100/100 [00:25<00:00,  3.94it/s]\n"
     ]
    }
   ],
   "source": [
    "returned_class_probs, returned_mus, returned_sigmas,norm_resps = em(X_train_vectorized_0_4,k = 5,spherical = True)"
   ]
  },
  {
   "cell_type": "code",
   "execution_count": 116,
   "metadata": {},
   "outputs": [
    {
     "data": {
      "text/plain": [
       "array([0.10570311, 0.04582499, 0.33071679, 0.4692426 , 0.04851252])"
      ]
     },
     "execution_count": 116,
     "metadata": {},
     "output_type": "execute_result"
    }
   ],
   "source": [
    "returned_class_probs"
   ]
  },
  {
   "cell_type": "code",
   "execution_count": 101,
   "metadata": {},
   "outputs": [
    {
     "data": {
      "text/plain": [
       "array([[[0.49549132, 0.        , 0.        , ..., 0.        ,\n",
       "         0.        , 0.        ],\n",
       "        [0.        , 0.49549132, 0.        , ..., 0.        ,\n",
       "         0.        , 0.        ],\n",
       "        [0.        , 0.        , 0.49549132, ..., 0.        ,\n",
       "         0.        , 0.        ],\n",
       "        ...,\n",
       "        [0.        , 0.        , 0.        , ..., 0.49549132,\n",
       "         0.        , 0.        ],\n",
       "        [0.        , 0.        , 0.        , ..., 0.        ,\n",
       "         0.49549132, 0.        ],\n",
       "        [0.        , 0.        , 0.        , ..., 0.        ,\n",
       "         0.        , 0.49549132]],\n",
       "\n",
       "       [[0.6884024 , 0.        , 0.        , ..., 0.        ,\n",
       "         0.        , 0.        ],\n",
       "        [0.        , 0.6884024 , 0.        , ..., 0.        ,\n",
       "         0.        , 0.        ],\n",
       "        [0.        , 0.        , 0.6884024 , ..., 0.        ,\n",
       "         0.        , 0.        ],\n",
       "        ...,\n",
       "        [0.        , 0.        , 0.        , ..., 0.6884024 ,\n",
       "         0.        , 0.        ],\n",
       "        [0.        , 0.        , 0.        , ..., 0.        ,\n",
       "         0.6884024 , 0.        ],\n",
       "        [0.        , 0.        , 0.        , ..., 0.        ,\n",
       "         0.        , 0.6884024 ]],\n",
       "\n",
       "       [[0.43482734, 0.        , 0.        , ..., 0.        ,\n",
       "         0.        , 0.        ],\n",
       "        [0.        , 0.43482734, 0.        , ..., 0.        ,\n",
       "         0.        , 0.        ],\n",
       "        [0.        , 0.        , 0.43482734, ..., 0.        ,\n",
       "         0.        , 0.        ],\n",
       "        ...,\n",
       "        [0.        , 0.        , 0.        , ..., 0.43482734,\n",
       "         0.        , 0.        ],\n",
       "        [0.        , 0.        , 0.        , ..., 0.        ,\n",
       "         0.43482734, 0.        ],\n",
       "        [0.        , 0.        , 0.        , ..., 0.        ,\n",
       "         0.        , 0.43482734]],\n",
       "\n",
       "       [[0.24640203, 0.        , 0.        , ..., 0.        ,\n",
       "         0.        , 0.        ],\n",
       "        [0.        , 0.24640203, 0.        , ..., 0.        ,\n",
       "         0.        , 0.        ],\n",
       "        [0.        , 0.        , 0.24640203, ..., 0.        ,\n",
       "         0.        , 0.        ],\n",
       "        ...,\n",
       "        [0.        , 0.        , 0.        , ..., 0.24640203,\n",
       "         0.        , 0.        ],\n",
       "        [0.        , 0.        , 0.        , ..., 0.        ,\n",
       "         0.24640203, 0.        ],\n",
       "        [0.        , 0.        , 0.        , ..., 0.        ,\n",
       "         0.        , 0.24640203]],\n",
       "\n",
       "       [[0.81910232, 0.        , 0.        , ..., 0.        ,\n",
       "         0.        , 0.        ],\n",
       "        [0.        , 0.81910232, 0.        , ..., 0.        ,\n",
       "         0.        , 0.        ],\n",
       "        [0.        , 0.        , 0.81910232, ..., 0.        ,\n",
       "         0.        , 0.        ],\n",
       "        ...,\n",
       "        [0.        , 0.        , 0.        , ..., 0.81910232,\n",
       "         0.        , 0.        ],\n",
       "        [0.        , 0.        , 0.        , ..., 0.        ,\n",
       "         0.81910232, 0.        ],\n",
       "        [0.        , 0.        , 0.        , ..., 0.        ,\n",
       "         0.        , 0.81910232]]])"
      ]
     },
     "execution_count": 101,
     "metadata": {},
     "output_type": "execute_result"
    }
   ],
   "source": [
    "returned_sigmas\n"
   ]
  },
  {
   "cell_type": "code",
   "execution_count": 81,
   "metadata": {},
   "outputs": [
    {
     "data": {
      "text/plain": [
       "array([0., 0., 0., ..., 0., 0., 0.])"
      ]
     },
     "execution_count": 81,
     "metadata": {},
     "output_type": "execute_result"
    }
   ],
   "source": [
    "scipy.stats.multivariate_normal(mean = returned_mus[1], cov=returned_sigmas[1]).pdf(X_train_vectorized_0_4) * returned_class_probs[1]"
   ]
  },
  {
   "cell_type": "code",
   "execution_count": null,
   "metadata": {},
   "outputs": [],
   "source": []
  }
 ],
 "metadata": {
  "interpreter": {
   "hash": "7e0170e9d12b03cec4caa5ac1fa2b75d8f54049c49cc37e98a32bbea31033ca8"
  },
  "kernelspec": {
   "display_name": "Python 3.9.10",
   "language": "python",
   "name": "python3"
  },
  "language_info": {
   "codemirror_mode": {
    "name": "ipython",
    "version": 3
   },
   "file_extension": ".py",
   "mimetype": "text/x-python",
   "name": "python",
   "nbconvert_exporter": "python",
   "pygments_lexer": "ipython3",
   "version": "3.9.12"
  },
  "orig_nbformat": 4
 },
 "nbformat": 4,
 "nbformat_minor": 2
}
