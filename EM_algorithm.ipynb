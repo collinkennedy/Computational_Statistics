{
 "cells": [
  {
   "cell_type": "code",
   "execution_count": 1,
   "metadata": {},
   "outputs": [
    {
     "name": "stderr",
     "output_type": "stream",
     "text": [
      "Using TensorFlow backend.\n"
     ]
    }
   ],
   "source": [
    "#get MNIST data\n",
    "#first import necessary libraries\n",
    "import numpy as np\n",
    "import pandas as pd\n",
    "import tensorflow as tf\n",
    "import pickle\n",
    "import gzip\n",
    "from keras.datasets import mnist\n",
    "from skimage.transform import downscale_local_mean\n",
    "\n",
    "\n"
   ]
  },
  {
   "cell_type": "code",
   "execution_count": 2,
   "metadata": {},
   "outputs": [
    {
     "name": "stdout",
     "output_type": "stream",
     "text": [
      "X_train: (60000, 28, 28)\n",
      "Y_train: (60000,)\n",
      "X_test:  (10000, 28, 28)\n",
      "Y_test:  (10000,)\n"
     ]
    }
   ],
   "source": [
    "#get the data from keras\n",
    "(X_train, y_train), (X_test, y_test) = mnist.load_data()\n",
    "print('X_train: ' + str(X_train.shape)) #60000 observations, 28 x 28 matrices\n",
    "print('Y_train: ' + str(y_train.shape))\n",
    "print('X_test:  '  + str(X_test.shape))\n",
    "print('Y_test:  '  + str(y_test.shape))\n"
   ]
  },
  {
   "cell_type": "code",
   "execution_count": 3,
   "metadata": {},
   "outputs": [
    {
     "data": {
      "image/png": "[encoded data removed]",
      "text/plain": [
       "<Figure size 432x288 with 1 Axes>"
      ]
     },
     "metadata": {
      "needs_background": "light"
     },
     "output_type": "display_data"
    },
    {
     "data": {
      "image/png": "[encoded data removed]",
      "text/plain": [
       "<Figure size 432x288 with 1 Axes>"
      ]
     },
     "metadata": {
      "needs_background": "light"
     },
     "output_type": "display_data"
    }
   ],
   "source": [
    "from matplotlib import pyplot\n",
    "#take a look at a couple of the images for fun\n",
    "for i in range(2):  \n",
    "    pyplot.subplot(330 + 1 + i)\n",
    "    pyplot.imshow(X_train[i], cmap=pyplot.get_cmap('gray'))\n",
    "    pyplot.show()"
   ]
  },
  {
   "cell_type": "code",
   "execution_count": 4,
   "metadata": {},
   "outputs": [
    {
     "data": {
      "text/plain": [
       "range(0, 60000)"
      ]
     },
     "execution_count": 4,
     "metadata": {},
     "output_type": "execute_result"
    }
   ],
   "source": [
    "range(len(X_train))"
   ]
  },
  {
   "cell_type": "code",
   "execution_count": 5,
   "metadata": {},
   "outputs": [],
   "source": [
    "factors = (2,2) #2x2 blocks \n",
    "\n",
    "#initialize downscaled 3dimensional array\n",
    "X_train_ds = list()\n",
    "#for each image in the training data set, downscale by calculating the local mean of each 2x2 block and create a new 14x14 image\n",
    "for i in range(len(X_train)):\n",
    "    #downscale the bih\n",
    "    ith_downscaled_image = downscale_local_mean(X_train[i], factors, cval=0, clip=True)\n",
    "    \n",
    "    #append it to downscaled training data\n",
    "    X_train_ds.append(ith_downscaled_image)\n",
    "    \n",
    "#make it a 3 d array\n",
    "X_train_ds = np.array(X_train_ds)"
   ]
  },
  {
   "cell_type": "code",
   "execution_count": 6,
   "metadata": {},
   "outputs": [],
   "source": [
    "X_train_ds.shape #seems to have worked, X_train_ds is the downscaled version, each element is a 14 by 14 matrix\n",
    "\n",
    "#for using in (the EM) algorithm, each sample should be treated as a vector (14x14 = 196 dimensional vector)\n",
    "X_train_vectorized = X_train_ds.reshape(60000,196)"
   ]
  },
  {
   "cell_type": "code",
   "execution_count": 39,
   "metadata": {},
   "outputs": [],
   "source": [
    "#for our purposes we only want to consider image 5 image classes: {0,1,2,3,4}\n",
    "#drop the rest\n",
    "\n",
    "#find the indices from y_train that are 5,6,7,8,9\n",
    "bool_arr = (y_train >= 5) #find the indices of the images we don't want to cluster/consider\n",
    "drop_indices = np.where(bool_arr)\n",
    "\n",
    "#delete them from y_train\n",
    "y_train_0_4 = np.delete(y_train, drop_indices)\n",
    "\n",
    "#delete them from X_train as well\n",
    "X_train_vectorized_0_4 = np.delete(X_train_vectorized, drop_indices, axis = 0) #drop the correct indices row-wise (axis = 0)\n"
   ]
  },
  {
   "cell_type": "markdown",
   "metadata": {},
   "source": [
    "**EM Algorithm for Mixture of Spherical Gaussians**"
   ]
  },
  {
   "cell_type": "code",
   "execution_count": null,
   "metadata": {},
   "outputs": [],
   "source": [
    "#Assume 5 clusters"
   ]
  }
 ],
 "metadata": {
  "interpreter": {
   "hash": "39d961a08718555772bb0ac411a6b2b438a184f9ac0d65f0613f436450256741"
  },
  "kernelspec": {
   "display_name": "Python 3.7.4 ('base')",
   "language": "python",
   "name": "python3"
  },
  "language_info": {
   "codemirror_mode": {
    "name": "ipython",
    "version": 3
   },
   "file_extension": ".py",
   "mimetype": "text/x-python",
   "name": "python",
   "nbconvert_exporter": "python",
   "pygments_lexer": "ipython3",
   "version": "3.7.4"
  },
  "orig_nbformat": 4
 },
 "nbformat": 4,
 "nbformat_minor": 2
}
